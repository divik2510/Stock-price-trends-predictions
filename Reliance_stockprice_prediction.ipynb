{
 "cells": [
  {
   "cell_type": "code",
   "execution_count": 77,
   "metadata": {},
   "outputs": [],
   "source": [
    "import numpy as np\n",
    "import pandas as pd\n",
    "import matplotlib.pyplot as plt\n",
    "import seaborn as sns\n",
    "from sklearn.preprocessing import MinMaxScaler"
   ]
  },
  {
   "cell_type": "code",
   "execution_count": 78,
   "id": "4942bad0",
   "metadata": {},
   "outputs": [],
   "source": [
    "from keras.models import Sequential\n",
    "from keras.layers import Dense\n",
    "from keras.layers import LSTM\n",
    "from keras.layers import Dropout"
   ]
  },
  {
   "cell_type": "code",
   "execution_count": 79,
   "id": "825e94e8",
   "metadata": {},
   "outputs": [
    {
     "data": {
      "text/html": [
       "<div>\n",
       "<style scoped>\n",
       "    .dataframe tbody tr th:only-of-type {\n",
       "        vertical-align: middle;\n",
       "    }\n",
       "\n",
       "    .dataframe tbody tr th {\n",
       "        vertical-align: top;\n",
       "    }\n",
       "\n",
       "    .dataframe thead th {\n",
       "        text-align: right;\n",
       "    }\n",
       "</style>\n",
       "<table border=\"1\" class=\"dataframe\">\n",
       "  <thead>\n",
       "    <tr style=\"text-align: right;\">\n",
       "      <th></th>\n",
       "      <th>Date</th>\n",
       "      <th>Open</th>\n",
       "      <th>High</th>\n",
       "      <th>Low</th>\n",
       "      <th>Close</th>\n",
       "      <th>Adj Close</th>\n",
       "      <th>Volume</th>\n",
       "    </tr>\n",
       "  </thead>\n",
       "  <tbody>\n",
       "    <tr>\n",
       "      <th>0</th>\n",
       "      <td>2000-01-03</td>\n",
       "      <td>36.747459</td>\n",
       "      <td>38.944569</td>\n",
       "      <td>36.747459</td>\n",
       "      <td>38.944569</td>\n",
       "      <td>29.773565</td>\n",
       "      <td>28802010.0</td>\n",
       "    </tr>\n",
       "    <tr>\n",
       "      <th>1</th>\n",
       "      <td>2000-01-04</td>\n",
       "      <td>39.981236</td>\n",
       "      <td>42.062302</td>\n",
       "      <td>38.882679</td>\n",
       "      <td>42.062302</td>\n",
       "      <td>32.157112</td>\n",
       "      <td>61320457.0</td>\n",
       "    </tr>\n",
       "    <tr>\n",
       "      <th>2</th>\n",
       "      <td>2000-01-05</td>\n",
       "      <td>39.710464</td>\n",
       "      <td>44.545658</td>\n",
       "      <td>39.710464</td>\n",
       "      <td>43.710136</td>\n",
       "      <td>33.416893</td>\n",
       "      <td>173426953.0</td>\n",
       "    </tr>\n",
       "    <tr>\n",
       "      <th>3</th>\n",
       "      <td>2000-01-06</td>\n",
       "      <td>44.715855</td>\n",
       "      <td>46.526150</td>\n",
       "      <td>44.715855</td>\n",
       "      <td>45.543640</td>\n",
       "      <td>34.818630</td>\n",
       "      <td>101355113.0</td>\n",
       "    </tr>\n",
       "    <tr>\n",
       "      <th>4</th>\n",
       "      <td>2000-01-07</td>\n",
       "      <td>45.644211</td>\n",
       "      <td>49.187443</td>\n",
       "      <td>45.334759</td>\n",
       "      <td>48.669109</td>\n",
       "      <td>37.208084</td>\n",
       "      <td>128426756.0</td>\n",
       "    </tr>\n",
       "    <tr>\n",
       "      <th>...</th>\n",
       "      <td>...</td>\n",
       "      <td>...</td>\n",
       "      <td>...</td>\n",
       "      <td>...</td>\n",
       "      <td>...</td>\n",
       "      <td>...</td>\n",
       "      <td>...</td>\n",
       "    </tr>\n",
       "    <tr>\n",
       "      <th>5501</th>\n",
       "      <td>2021-12-24</td>\n",
       "      <td>2370.000000</td>\n",
       "      <td>2392.000000</td>\n",
       "      <td>2337.550049</td>\n",
       "      <td>2372.800049</td>\n",
       "      <td>2372.800049</td>\n",
       "      <td>3639616.0</td>\n",
       "    </tr>\n",
       "    <tr>\n",
       "      <th>5502</th>\n",
       "      <td>2021-12-27</td>\n",
       "      <td>2361.550049</td>\n",
       "      <td>2378.000000</td>\n",
       "      <td>2348.100098</td>\n",
       "      <td>2370.250000</td>\n",
       "      <td>2370.250000</td>\n",
       "      <td>1853948.0</td>\n",
       "    </tr>\n",
       "    <tr>\n",
       "      <th>5503</th>\n",
       "      <td>2021-12-28</td>\n",
       "      <td>2375.600098</td>\n",
       "      <td>2404.850098</td>\n",
       "      <td>2373.050049</td>\n",
       "      <td>2398.399902</td>\n",
       "      <td>2398.399902</td>\n",
       "      <td>2941883.0</td>\n",
       "    </tr>\n",
       "    <tr>\n",
       "      <th>5504</th>\n",
       "      <td>2021-12-29</td>\n",
       "      <td>2391.000000</td>\n",
       "      <td>2419.000000</td>\n",
       "      <td>2382.100098</td>\n",
       "      <td>2402.500000</td>\n",
       "      <td>2402.500000</td>\n",
       "      <td>7118779.0</td>\n",
       "    </tr>\n",
       "    <tr>\n",
       "      <th>5505</th>\n",
       "      <td>2021-12-30</td>\n",
       "      <td>2400.000000</td>\n",
       "      <td>2404.949951</td>\n",
       "      <td>2345.600098</td>\n",
       "      <td>2359.100098</td>\n",
       "      <td>2359.100098</td>\n",
       "      <td>13537254.0</td>\n",
       "    </tr>\n",
       "  </tbody>\n",
       "</table>\n",
       "<p>5506 rows × 7 columns</p>\n",
       "</div>"
      ],
      "text/plain": [
       "            Date         Open         High          Low        Close  \\\n",
       "0     2000-01-03    36.747459    38.944569    36.747459    38.944569   \n",
       "1     2000-01-04    39.981236    42.062302    38.882679    42.062302   \n",
       "2     2000-01-05    39.710464    44.545658    39.710464    43.710136   \n",
       "3     2000-01-06    44.715855    46.526150    44.715855    45.543640   \n",
       "4     2000-01-07    45.644211    49.187443    45.334759    48.669109   \n",
       "...          ...          ...          ...          ...          ...   \n",
       "5501  2021-12-24  2370.000000  2392.000000  2337.550049  2372.800049   \n",
       "5502  2021-12-27  2361.550049  2378.000000  2348.100098  2370.250000   \n",
       "5503  2021-12-28  2375.600098  2404.850098  2373.050049  2398.399902   \n",
       "5504  2021-12-29  2391.000000  2419.000000  2382.100098  2402.500000   \n",
       "5505  2021-12-30  2400.000000  2404.949951  2345.600098  2359.100098   \n",
       "\n",
       "        Adj Close       Volume  \n",
       "0       29.773565   28802010.0  \n",
       "1       32.157112   61320457.0  \n",
       "2       33.416893  173426953.0  \n",
       "3       34.818630  101355113.0  \n",
       "4       37.208084  128426756.0  \n",
       "...           ...          ...  \n",
       "5501  2372.800049    3639616.0  \n",
       "5502  2370.250000    1853948.0  \n",
       "5503  2398.399902    2941883.0  \n",
       "5504  2402.500000    7118779.0  \n",
       "5505  2359.100098   13537254.0  \n",
       "\n",
       "[5506 rows x 7 columns]"
      ]
     },
     "execution_count": 79,
     "metadata": {},
     "output_type": "execute_result"
    }
   ],
   "source": [
    "df = pd.read_csv('Reliance_train.csv')\n",
    "df"
   ]
  },
  {
   "cell_type": "code",
   "execution_count": 84,
   "id": "f456df0a",
   "metadata": {},
   "outputs": [
    {
     "data": {
      "text/plain": [
       "10"
      ]
     },
     "execution_count": 84,
     "metadata": {},
     "output_type": "execute_result"
    }
   ],
   "source": [
    "sum(df['Open'].isnull())"
   ]
  },
  {
   "cell_type": "code",
   "execution_count": 86,
   "id": "a3dc64d9",
   "metadata": {},
   "outputs": [],
   "source": [
    "df = df['Open'].dropna()"
   ]
  },
  {
   "cell_type": "code",
   "execution_count": 87,
   "id": "f6973ccb",
   "metadata": {},
   "outputs": [
    {
     "data": {
      "text/plain": [
       "0         36.747459\n",
       "1         39.981236\n",
       "2         39.710464\n",
       "3         44.715855\n",
       "4         45.644211\n",
       "           ...     \n",
       "5501    2370.000000\n",
       "5502    2361.550049\n",
       "5503    2375.600098\n",
       "5504    2391.000000\n",
       "5505    2400.000000\n",
       "Name: Open, Length: 5496, dtype: float64"
      ]
     },
     "execution_count": 87,
     "metadata": {},
     "output_type": "execute_result"
    }
   ],
   "source": [
    "df"
   ]
  },
  {
   "cell_type": "code",
   "execution_count": 85,
   "id": "ca318a07",
   "metadata": {},
   "outputs": [
    {
     "data": {
      "text/plain": [
       "5506"
      ]
     },
     "execution_count": 85,
     "metadata": {},
     "output_type": "execute_result"
    }
   ],
   "source": [
    "len(df['Open'])"
   ]
  },
  {
   "cell_type": "code",
   "execution_count": 52,
   "id": "8ef5d09a",
   "metadata": {},
   "outputs": [
    {
     "data": {
      "text/plain": [
       "0         36.747459\n",
       "1         39.981236\n",
       "2         39.710464\n",
       "3         44.715855\n",
       "4         45.644211\n",
       "           ...     \n",
       "5501    2370.000000\n",
       "5502    2361.550049\n",
       "5503    2375.600098\n",
       "5504    2391.000000\n",
       "5505    2400.000000\n",
       "Name: Open, Length: 5506, dtype: float64"
      ]
     },
     "execution_count": 52,
     "metadata": {},
     "output_type": "execute_result"
    }
   ],
   "source": [
    "X = df['Open']\n",
    "X"
   ]
  },
  {
   "cell_type": "code",
   "execution_count": 53,
   "id": "e7a120a8",
   "metadata": {},
   "outputs": [
    {
     "data": {
      "text/plain": [
       "[<matplotlib.lines.Line2D at 0x250ec329b20>]"
      ]
     },
     "execution_count": 53,
     "metadata": {},
     "output_type": "execute_result"
    },
    {
     "data": {
      "image/png": "[encoded data removed]",
      "text/plain": [
       "<Figure size 432x288 with 1 Axes>"
      ]
     },
     "metadata": {
      "needs_background": "light"
     },
     "output_type": "display_data"
    }
   ],
   "source": [
    "plt.plot(df.index,df['Open'])"
   ]
  },
  {
   "cell_type": "code",
   "execution_count": 54,
   "id": "ee3d4041",
   "metadata": {},
   "outputs": [
    {
     "data": {
      "text/plain": [
       "array([  36.747459,   39.981236,   39.710464, ..., 2375.600098,\n",
       "       2391.      , 2400.      ])"
      ]
     },
     "execution_count": 54,
     "metadata": {},
     "output_type": "execute_result"
    }
   ],
   "source": [
    "x = np.array(X)\n",
    "x"
   ]
  },
  {
   "cell_type": "code",
   "execution_count": 55,
   "id": "ff00436e",
   "metadata": {},
   "outputs": [],
   "source": [
    "x = x.reshape(-1,1)"
   ]
  },
  {
   "cell_type": "code",
   "execution_count": 56,
   "id": "c867ab90",
   "metadata": {},
   "outputs": [
    {
     "data": {
      "text/plain": [
       "array([[  36.747459],\n",
       "       [  39.981236],\n",
       "       [  39.710464],\n",
       "       ...,\n",
       "       [2375.600098],\n",
       "       [2391.      ],\n",
       "       [2400.      ]])"
      ]
     },
     "execution_count": 56,
     "metadata": {},
     "output_type": "execute_result"
    }
   ],
   "source": [
    "x"
   ]
  },
  {
   "cell_type": "code",
   "execution_count": 57,
   "id": "28b81ce4",
   "metadata": {},
   "outputs": [],
   "source": [
    "sc = MinMaxScaler(feature_range = (0, 1))\n",
    "scaled_x = sc.fit_transform(x)"
   ]
  },
  {
   "cell_type": "code",
   "execution_count": 58,
   "id": "561fa990",
   "metadata": {},
   "outputs": [
    {
     "data": {
      "text/plain": [
       "array([[0.00182638],\n",
       "       [0.00301924],\n",
       "       [0.00291936],\n",
       "       ...,\n",
       "       [0.864568  ],\n",
       "       [0.87024862],\n",
       "       [0.87356848]])"
      ]
     },
     "execution_count": 58,
     "metadata": {},
     "output_type": "execute_result"
    }
   ],
   "source": [
    "scaled_x"
   ]
  },
  {
   "cell_type": "code",
   "execution_count": 59,
   "id": "9f20a9c3",
   "metadata": {},
   "outputs": [
    {
     "data": {
      "text/plain": [
       "5506"
      ]
     },
     "execution_count": 59,
     "metadata": {},
     "output_type": "execute_result"
    }
   ],
   "source": [
    "len(scaled_x)"
   ]
  },
  {
   "cell_type": "code",
   "execution_count": 60,
   "id": "6ef216bf",
   "metadata": {},
   "outputs": [],
   "source": [
    "X_train = []\n",
    "y_train = []\n",
    "for i in range(200, 5506):\n",
    "    X_train.append(scaled_x[i-200:i, 0])\n",
    "    y_train.append(scaled_x[i, 0])\n",
    "X_train, y_train = np.array(X_train), np.array(y_train)"
   ]
  },
  {
   "cell_type": "code",
   "execution_count": 61,
   "id": "518d84e6",
   "metadata": {},
   "outputs": [
    {
     "data": {
      "text/plain": [
       "array([[0.00182638, 0.00301924, 0.00291936, ..., 0.00801896, 0.00797044,\n",
       "        0.00756522],\n",
       "       [0.00301924, 0.00291936, 0.00476571, ..., 0.00797044, 0.00756522,\n",
       "        0.00773359],\n",
       "       [0.00291936, 0.00476571, 0.00510816, ..., 0.00756522, 0.00773359,\n",
       "        0.00773644],\n",
       "       ...,\n",
       "       [0.78356326, 0.78817418, 0.79979371, ..., 0.86397776, 0.86250227,\n",
       "        0.8593853 ],\n",
       "       [0.78817418, 0.79979371, 0.80237583, ..., 0.86250227, 0.8593853 ,\n",
       "        0.864568  ],\n",
       "       [0.79979371, 0.80237583, 0.79794934, ..., 0.8593853 , 0.864568  ,\n",
       "        0.87024862]])"
      ]
     },
     "execution_count": 61,
     "metadata": {},
     "output_type": "execute_result"
    }
   ],
   "source": [
    "X_train"
   ]
  },
  {
   "cell_type": "code",
   "execution_count": 62,
   "id": "c53c1433",
   "metadata": {},
   "outputs": [
    {
     "data": {
      "text/plain": [
       "5306"
      ]
     },
     "execution_count": 62,
     "metadata": {},
     "output_type": "execute_result"
    }
   ],
   "source": [
    "len(X_train)"
   ]
  },
  {
   "cell_type": "code",
   "execution_count": 63,
   "id": "6abf72e5",
   "metadata": {},
   "outputs": [
    {
     "data": {
      "text/plain": [
       "array([0.00773359, 0.00773644, 0.00727699, ..., 0.864568  , 0.87024862,\n",
       "       0.87356848])"
      ]
     },
     "execution_count": 63,
     "metadata": {},
     "output_type": "execute_result"
    }
   ],
   "source": [
    "y_train"
   ]
  },
  {
   "cell_type": "code",
   "execution_count": 64,
   "id": "11147157",
   "metadata": {},
   "outputs": [
    {
     "data": {
      "text/plain": [
       "5306"
      ]
     },
     "execution_count": 64,
     "metadata": {},
     "output_type": "execute_result"
    }
   ],
   "source": [
    "len(y_train)"
   ]
  },
  {
   "cell_type": "code",
   "execution_count": 65,
   "id": "b2d6b8fb",
   "metadata": {},
   "outputs": [],
   "source": [
    "X_train = np.reshape(X_train, (X_train.shape[0], X_train.shape[1], 1))"
   ]
  },
  {
   "cell_type": "code",
   "execution_count": 66,
   "id": "5c7ecffb",
   "metadata": {},
   "outputs": [
    {
     "data": {
      "text/plain": [
       "array([[[0.00182638],\n",
       "        [0.00301924],\n",
       "        [0.00291936],\n",
       "        ...,\n",
       "        [0.00801896],\n",
       "        [0.00797044],\n",
       "        [0.00756522]],\n",
       "\n",
       "       [[0.00301924],\n",
       "        [0.00291936],\n",
       "        [0.00476571],\n",
       "        ...,\n",
       "        [0.00797044],\n",
       "        [0.00756522],\n",
       "        [0.00773359]],\n",
       "\n",
       "       [[0.00291936],\n",
       "        [0.00476571],\n",
       "        [0.00510816],\n",
       "        ...,\n",
       "        [0.00756522],\n",
       "        [0.00773359],\n",
       "        [0.00773644]],\n",
       "\n",
       "       ...,\n",
       "\n",
       "       [[0.78356326],\n",
       "        [0.78817418],\n",
       "        [0.79979371],\n",
       "        ...,\n",
       "        [0.86397776],\n",
       "        [0.86250227],\n",
       "        [0.8593853 ]],\n",
       "\n",
       "       [[0.78817418],\n",
       "        [0.79979371],\n",
       "        [0.80237583],\n",
       "        ...,\n",
       "        [0.86250227],\n",
       "        [0.8593853 ],\n",
       "        [0.864568  ]],\n",
       "\n",
       "       [[0.79979371],\n",
       "        [0.80237583],\n",
       "        [0.79794934],\n",
       "        ...,\n",
       "        [0.8593853 ],\n",
       "        [0.864568  ],\n",
       "        [0.87024862]]])"
      ]
     },
     "execution_count": 66,
     "metadata": {},
     "output_type": "execute_result"
    }
   ],
   "source": [
    "X_train"
   ]
  },
  {
   "cell_type": "code",
   "execution_count": 67,
   "id": "16cbc892",
   "metadata": {},
   "outputs": [
    {
     "data": {
      "text/plain": [
       "array([0.00773359, 0.00773644, 0.00727699, ..., 0.864568  , 0.87024862,\n",
       "       0.87356848])"
      ]
     },
     "execution_count": 67,
     "metadata": {},
     "output_type": "execute_result"
    }
   ],
   "source": [
    "y_train"
   ]
  },
  {
   "cell_type": "code",
   "execution_count": 68,
   "id": "3b12d2c2",
   "metadata": {},
   "outputs": [],
   "source": [
    "regressor = Sequential()"
   ]
  },
  {
   "cell_type": "code",
   "execution_count": 69,
   "id": "0381d50c",
   "metadata": {},
   "outputs": [],
   "source": [
    "regressor.add(LSTM(units = 50, return_sequences = True, input_shape = (X_train.shape[1], 1)))\n",
    "regressor.add(Dropout(0.2))"
   ]
  },
  {
   "cell_type": "code",
   "execution_count": 70,
   "id": "e6e3587b",
   "metadata": {},
   "outputs": [],
   "source": [
    "regressor.add(LSTM(units = 50, return_sequences = True))\n",
    "regressor.add(Dropout(0.2))"
   ]
  },
  {
   "cell_type": "code",
   "execution_count": 71,
   "id": "bc842aa8",
   "metadata": {},
   "outputs": [],
   "source": [
    "regressor.add(LSTM(units = 50, return_sequences = True))\n",
    "regressor.add(Dropout(0.2))"
   ]
  },
  {
   "cell_type": "code",
   "execution_count": 72,
   "id": "2056c814",
   "metadata": {},
   "outputs": [],
   "source": [
    "regressor.add(LSTM(units = 50))\n",
    "regressor.add(Dropout(0.2))"
   ]
  },
  {
   "cell_type": "code",
   "execution_count": 73,
   "id": "9cf6e258",
   "metadata": {},
   "outputs": [],
   "source": [
    "regressor.add(Dense(units = 1))"
   ]
  },
  {
   "cell_type": "code",
   "execution_count": 74,
   "id": "87509b38",
   "metadata": {},
   "outputs": [],
   "source": [
    "regressor.compile(optimizer = 'adam', loss = 'mean_squared_error')"
   ]
  },
  {
   "cell_type": "code",
   "execution_count": 75,
   "id": "b4f7c2b4",
   "metadata": {},
   "outputs": [
    {
     "name": "stdout",
     "output_type": "stream",
     "text": [
      "166/166 [==============================] - 54s 259ms/step - loss: nan\n"
     ]
    },
    {
     "data": {
      "text/plain": [
       "<keras.callbacks.History at 0x250f7407f40>"
      ]
     },
     "execution_count": 75,
     "metadata": {},
     "output_type": "execute_result"
    }
   ],
   "source": [
    "regressor.fit(X_train, y_train, epochs = 1, batch_size = 32)"
   ]
  },
  {
   "cell_type": "code",
   "execution_count": 76,
   "id": "48b013ec",
   "metadata": {},
   "outputs": [],
   "source": [
    "# NEW COMMENT"
   ]
  },
  {
   "cell_type": "code",
   "execution_count": null,
   "id": "ff3a45bb",
   "metadata": {},
   "outputs": [],
   "source": []
  },
  {
   "cell_type": "code",
   "execution_count": null,
   "id": "7c3caef3",
   "metadata": {},
   "outputs": [],
   "source": []
  }
 ],
 "metadata": {
  "interpreter": {
   "hash": "a2abd47540d79ed017d58b2814c99371760a05027a4637b535e37e6d333f8ef3"
  },
  "kernelspec": {
   "display_name": "Python 3.9.12 ('base')",
   "language": "python",
   "name": "python3"
  },
  "language_info": {
   "codemirror_mode": {
    "name": "ipython",
    "version": 3
   },
   "file_extension": ".py",
   "mimetype": "text/x-python",
   "name": "python",
   "nbconvert_exporter": "python",
   "pygments_lexer": "ipython3",
   "version": "3.9.12"
  }
 },
 "nbformat": 4,
 "nbformat_minor": 5
}
