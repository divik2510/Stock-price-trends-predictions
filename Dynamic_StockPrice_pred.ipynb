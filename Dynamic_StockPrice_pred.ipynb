{
 "cells": [
  {
   "cell_type": "code",
   "execution_count": 28,
   "id": "d762c7af",
   "metadata": {},
   "outputs": [],
   "source": [
    "import numpy as np\n",
    "import pandas as pd\n",
    "import matplotlib.pyplot as plt"
   ]
  },
  {
   "cell_type": "code",
   "execution_count": 29,
   "id": "56e44e89",
   "metadata": {},
   "outputs": [
    {
     "data": {
      "text/html": [
       "<div>\n",
       "<style scoped>\n",
       "    .dataframe tbody tr th:only-of-type {\n",
       "        vertical-align: middle;\n",
       "    }\n",
       "\n",
       "    .dataframe tbody tr th {\n",
       "        vertical-align: top;\n",
       "    }\n",
       "\n",
       "    .dataframe thead th {\n",
       "        text-align: right;\n",
       "    }\n",
       "</style>\n",
       "<table border=\"1\" class=\"dataframe\">\n",
       "  <thead>\n",
       "    <tr style=\"text-align: right;\">\n",
       "      <th></th>\n",
       "      <th>Date</th>\n",
       "      <th>Open</th>\n",
       "      <th>High</th>\n",
       "      <th>Low</th>\n",
       "      <th>Close</th>\n",
       "      <th>Adj Close</th>\n",
       "      <th>Volume</th>\n",
       "    </tr>\n",
       "  </thead>\n",
       "  <tbody>\n",
       "    <tr>\n",
       "      <th>0</th>\n",
       "      <td>2016-01-01</td>\n",
       "      <td>225.000000</td>\n",
       "      <td>228.899994</td>\n",
       "      <td>224.500000</td>\n",
       "      <td>227.800003</td>\n",
       "      <td>217.400299</td>\n",
       "      <td>6449426</td>\n",
       "    </tr>\n",
       "    <tr>\n",
       "      <th>1</th>\n",
       "      <td>2016-01-04</td>\n",
       "      <td>226.949997</td>\n",
       "      <td>226.949997</td>\n",
       "      <td>220.050003</td>\n",
       "      <td>220.699997</td>\n",
       "      <td>210.624420</td>\n",
       "      <td>14092071</td>\n",
       "    </tr>\n",
       "    <tr>\n",
       "      <th>2</th>\n",
       "      <td>2016-01-05</td>\n",
       "      <td>222.800003</td>\n",
       "      <td>222.800003</td>\n",
       "      <td>217.000000</td>\n",
       "      <td>217.750000</td>\n",
       "      <td>207.809097</td>\n",
       "      <td>15074848</td>\n",
       "    </tr>\n",
       "    <tr>\n",
       "      <th>3</th>\n",
       "      <td>2016-01-06</td>\n",
       "      <td>217.899994</td>\n",
       "      <td>219.899994</td>\n",
       "      <td>216.399994</td>\n",
       "      <td>216.850006</td>\n",
       "      <td>206.950195</td>\n",
       "      <td>11921123</td>\n",
       "    </tr>\n",
       "    <tr>\n",
       "      <th>4</th>\n",
       "      <td>2016-01-07</td>\n",
       "      <td>214.000000</td>\n",
       "      <td>214.100006</td>\n",
       "      <td>209.000000</td>\n",
       "      <td>209.550003</td>\n",
       "      <td>199.983444</td>\n",
       "      <td>14342279</td>\n",
       "    </tr>\n",
       "    <tr>\n",
       "      <th>...</th>\n",
       "      <td>...</td>\n",
       "      <td>...</td>\n",
       "      <td>...</td>\n",
       "      <td>...</td>\n",
       "      <td>...</td>\n",
       "      <td>...</td>\n",
       "      <td>...</td>\n",
       "    </tr>\n",
       "    <tr>\n",
       "      <th>1476</th>\n",
       "      <td>2021-12-24</td>\n",
       "      <td>462.600006</td>\n",
       "      <td>463.600006</td>\n",
       "      <td>452.200012</td>\n",
       "      <td>456.950012</td>\n",
       "      <td>449.928375</td>\n",
       "      <td>13221159</td>\n",
       "    </tr>\n",
       "    <tr>\n",
       "      <th>1477</th>\n",
       "      <td>2021-12-27</td>\n",
       "      <td>453.700012</td>\n",
       "      <td>460.500000</td>\n",
       "      <td>450.549988</td>\n",
       "      <td>458.049988</td>\n",
       "      <td>451.011444</td>\n",
       "      <td>8856482</td>\n",
       "    </tr>\n",
       "    <tr>\n",
       "      <th>1478</th>\n",
       "      <td>2021-12-28</td>\n",
       "      <td>461.200012</td>\n",
       "      <td>462.899994</td>\n",
       "      <td>459.049988</td>\n",
       "      <td>461.200012</td>\n",
       "      <td>454.113068</td>\n",
       "      <td>8832210</td>\n",
       "    </tr>\n",
       "    <tr>\n",
       "      <th>1479</th>\n",
       "      <td>2021-12-29</td>\n",
       "      <td>461.000000</td>\n",
       "      <td>462.149994</td>\n",
       "      <td>451.399994</td>\n",
       "      <td>454.399994</td>\n",
       "      <td>447.417542</td>\n",
       "      <td>11757303</td>\n",
       "    </tr>\n",
       "    <tr>\n",
       "      <th>1480</th>\n",
       "      <td>2021-12-30</td>\n",
       "      <td>452.750000</td>\n",
       "      <td>454.899994</td>\n",
       "      <td>448.500000</td>\n",
       "      <td>451.700012</td>\n",
       "      <td>444.759033</td>\n",
       "      <td>28879190</td>\n",
       "    </tr>\n",
       "  </tbody>\n",
       "</table>\n",
       "<p>1481 rows × 7 columns</p>\n",
       "</div>"
      ],
      "text/plain": [
       "            Date        Open        High         Low       Close   Adj Close  \\\n",
       "0     2016-01-01  225.000000  228.899994  224.500000  227.800003  217.400299   \n",
       "1     2016-01-04  226.949997  226.949997  220.050003  220.699997  210.624420   \n",
       "2     2016-01-05  222.800003  222.800003  217.000000  217.750000  207.809097   \n",
       "3     2016-01-06  217.899994  219.899994  216.399994  216.850006  206.950195   \n",
       "4     2016-01-07  214.000000  214.100006  209.000000  209.550003  199.983444   \n",
       "...          ...         ...         ...         ...         ...         ...   \n",
       "1476  2021-12-24  462.600006  463.600006  452.200012  456.950012  449.928375   \n",
       "1477  2021-12-27  453.700012  460.500000  450.549988  458.049988  451.011444   \n",
       "1478  2021-12-28  461.200012  462.899994  459.049988  461.200012  454.113068   \n",
       "1479  2021-12-29  461.000000  462.149994  451.399994  454.399994  447.417542   \n",
       "1480  2021-12-30  452.750000  454.899994  448.500000  451.700012  444.759033   \n",
       "\n",
       "        Volume  \n",
       "0      6449426  \n",
       "1     14092071  \n",
       "2     15074848  \n",
       "3     11921123  \n",
       "4     14342279  \n",
       "...        ...  \n",
       "1476  13221159  \n",
       "1477   8856482  \n",
       "1478   8832210  \n",
       "1479  11757303  \n",
       "1480  28879190  \n",
       "\n",
       "[1481 rows x 7 columns]"
      ]
     },
     "execution_count": 29,
     "metadata": {},
     "output_type": "execute_result"
    }
   ],
   "source": [
    "df_train = pd.read_csv('SBI_train.csv')\n",
    "df_train"
   ]
  },
  {
   "cell_type": "code",
   "execution_count": 30,
   "id": "1cef5da9",
   "metadata": {},
   "outputs": [],
   "source": [
    "df_train.dropna(inplace=True)"
   ]
  },
  {
   "cell_type": "code",
   "execution_count": 31,
   "id": "11f72e99",
   "metadata": {},
   "outputs": [],
   "source": [
    "x = np.array(df_train['Open'])"
   ]
  },
  {
   "cell_type": "code",
   "execution_count": 32,
   "id": "959bf4e5",
   "metadata": {},
   "outputs": [],
   "source": [
    "x = x.reshape(-1,1)"
   ]
  },
  {
   "cell_type": "code",
   "execution_count": 33,
   "id": "14aa3b45",
   "metadata": {},
   "outputs": [
    {
     "data": {
      "text/plain": [
       "array([[225.      ],\n",
       "       [226.949997],\n",
       "       [222.800003],\n",
       "       ...,\n",
       "       [461.200012],\n",
       "       [461.      ],\n",
       "       [452.75    ]])"
      ]
     },
     "execution_count": 33,
     "metadata": {},
     "output_type": "execute_result"
    }
   ],
   "source": [
    "x"
   ]
  },
  {
   "cell_type": "code",
   "execution_count": 34,
   "id": "501a983c",
   "metadata": {},
   "outputs": [],
   "source": [
    "from sklearn.preprocessing import MinMaxScaler\n",
    "sc = MinMaxScaler(feature_range=(0,1))\n",
    "scaled_x = sc.fit_transform(x)"
   ]
  },
  {
   "cell_type": "code",
   "execution_count": 35,
   "id": "a0bc3e75",
   "metadata": {},
   "outputs": [
    {
     "data": {
      "text/plain": [
       "array([[0.19098039],\n",
       "       [0.19607842],\n",
       "       [0.18522877],\n",
       "       ...,\n",
       "       [0.80849674],\n",
       "       [0.80797383],\n",
       "       [0.78640521]])"
      ]
     },
     "execution_count": 35,
     "metadata": {},
     "output_type": "execute_result"
    }
   ],
   "source": [
    "scaled_x"
   ]
  },
  {
   "cell_type": "code",
   "execution_count": 36,
   "id": "656828ea",
   "metadata": {},
   "outputs": [],
   "source": [
    "timesteps = 180"
   ]
  },
  {
   "cell_type": "code",
   "execution_count": 37,
   "id": "2287c025",
   "metadata": {},
   "outputs": [],
   "source": [
    "X_train = []\n",
    "y_train = []\n",
    "for i in range(timesteps,len(df_train)):\n",
    "    X_train.append(scaled_x[i-timesteps:i,0])\n",
    "    y_train.append(scaled_x[i,0])\n",
    "X_train,y_train=np.array(X_train),np.array(y_train)"
   ]
  },
  {
   "cell_type": "code",
   "execution_count": 38,
   "id": "fb13fd47",
   "metadata": {},
   "outputs": [],
   "source": [
    "X_train = np.reshape(X_train, (X_train.shape[0], X_train.shape[1], 1))"
   ]
  },
  {
   "cell_type": "code",
   "execution_count": 39,
   "id": "655f96b7",
   "metadata": {},
   "outputs": [
    {
     "data": {
      "text/plain": [
       "array([[[0.19098039],\n",
       "        [0.19607842],\n",
       "        [0.18522877],\n",
       "        ...,\n",
       "        [0.26810457],\n",
       "        [0.27699345],\n",
       "        [0.27934637]],\n",
       "\n",
       "       [[0.19607842],\n",
       "        [0.18522877],\n",
       "        [0.17241829],\n",
       "        ...,\n",
       "        [0.27699345],\n",
       "        [0.27934637],\n",
       "        [0.26666666]],\n",
       "\n",
       "       [[0.18522877],\n",
       "        [0.17241829],\n",
       "        [0.16222222],\n",
       "        ...,\n",
       "        [0.27934637],\n",
       "        [0.26666666],\n",
       "        [0.26457515]],\n",
       "\n",
       "       ...,\n",
       "\n",
       "       [[0.52104574],\n",
       "        [0.54653593],\n",
       "        [0.52928102],\n",
       "        ...,\n",
       "        [0.80797383],\n",
       "        [0.81215685],\n",
       "        [0.7888889 ]],\n",
       "\n",
       "       [[0.54653593],\n",
       "        [0.52928102],\n",
       "        [0.50209149],\n",
       "        ...,\n",
       "        [0.81215685],\n",
       "        [0.7888889 ],\n",
       "        [0.80849674]],\n",
       "\n",
       "       [[0.52928102],\n",
       "        [0.50209149],\n",
       "        [0.47071894],\n",
       "        ...,\n",
       "        [0.7888889 ],\n",
       "        [0.80849674],\n",
       "        [0.80797383]]])"
      ]
     },
     "execution_count": 39,
     "metadata": {},
     "output_type": "execute_result"
    }
   ],
   "source": [
    "X_train"
   ]
  },
  {
   "cell_type": "code",
   "execution_count": 40,
   "id": "a2929236",
   "metadata": {},
   "outputs": [
    {
     "data": {
      "text/plain": [
       "array([0.26666666, 0.26457515, 0.25633987, ..., 0.80849674, 0.80797383,\n",
       "       0.78640521])"
      ]
     },
     "execution_count": 40,
     "metadata": {},
     "output_type": "execute_result"
    }
   ],
   "source": [
    "y_train"
   ]
  },
  {
   "cell_type": "code",
   "execution_count": 41,
   "id": "0f777001",
   "metadata": {},
   "outputs": [],
   "source": [
    "from keras.models import Sequential\n",
    "from keras.layers import Dense\n",
    "from keras.layers import LSTM\n",
    "from keras.layers import Dropout"
   ]
  },
  {
   "cell_type": "code",
   "execution_count": 42,
   "id": "5badbea5",
   "metadata": {},
   "outputs": [],
   "source": [
    "regressor = Sequential()"
   ]
  },
  {
   "cell_type": "code",
   "execution_count": 43,
   "id": "c936821c",
   "metadata": {},
   "outputs": [],
   "source": [
    "regressor.add(LSTM(units = 50, return_sequences = True, input_shape = (X_train.shape[1], 1)))\n",
    "regressor.add(Dropout(0.2))"
   ]
  },
  {
   "cell_type": "code",
   "execution_count": 44,
   "id": "fdf2c4e9",
   "metadata": {},
   "outputs": [],
   "source": [
    "regressor.add(LSTM(units = 50, return_sequences = True))\n",
    "regressor.add(Dropout(0.2))"
   ]
  },
  {
   "cell_type": "code",
   "execution_count": 45,
   "id": "1478ff3a",
   "metadata": {},
   "outputs": [],
   "source": [
    "regressor.add(LSTM(units = 50, return_sequences = True))\n",
    "regressor.add(Dropout(0.2))"
   ]
  },
  {
   "cell_type": "code",
   "execution_count": 46,
   "id": "a4b5c626",
   "metadata": {},
   "outputs": [],
   "source": [
    "regressor.add(LSTM(units = 50))\n",
    "regressor.add(Dropout(0.2))"
   ]
  },
  {
   "cell_type": "code",
   "execution_count": 47,
   "id": "f2a52fdc",
   "metadata": {},
   "outputs": [],
   "source": [
    "regressor.add(Dense(units = 1))"
   ]
  },
  {
   "cell_type": "code",
   "execution_count": 48,
   "id": "2e312105",
   "metadata": {},
   "outputs": [],
   "source": [
    "regressor.compile(optimizer = 'adam', loss = 'mean_squared_error')"
   ]
  },
  {
   "cell_type": "code",
   "execution_count": 49,
   "id": "7e44929a",
   "metadata": {},
   "outputs": [
    {
     "name": "stdout",
     "output_type": "stream",
     "text": [
      "Epoch 1/100\n",
      "41/41 [==============================] - 20s 251ms/step - loss: 0.0209\n",
      "Epoch 2/100\n",
      "41/41 [==============================] - 10s 247ms/step - loss: 0.0068\n",
      "Epoch 3/100\n",
      "41/41 [==============================] - 10s 245ms/step - loss: 0.0060\n",
      "Epoch 4/100\n",
      "41/41 [==============================] - 11s 280ms/step - loss: 0.0055\n",
      "Epoch 5/100\n",
      "41/41 [==============================] - 10s 246ms/step - loss: 0.0046\n",
      "Epoch 6/100\n",
      "41/41 [==============================] - 10s 243ms/step - loss: 0.0049\n",
      "Epoch 7/100\n",
      "41/41 [==============================] - 10s 247ms/step - loss: 0.0044\n",
      "Epoch 8/100\n",
      "41/41 [==============================] - 10s 250ms/step - loss: 0.0041\n",
      "Epoch 9/100\n",
      "41/41 [==============================] - 10s 246ms/step - loss: 0.0037\n",
      "Epoch 10/100\n",
      "41/41 [==============================] - 10s 244ms/step - loss: 0.0035\n",
      "Epoch 11/100\n",
      "41/41 [==============================] - 10s 244ms/step - loss: 0.0038\n",
      "Epoch 12/100\n",
      "41/41 [==============================] - 10s 249ms/step - loss: 0.0037\n",
      "Epoch 13/100\n",
      "41/41 [==============================] - 10s 243ms/step - loss: 0.0035\n",
      "Epoch 14/100\n",
      "41/41 [==============================] - 10s 246ms/step - loss: 0.0030\n",
      "Epoch 15/100\n",
      "41/41 [==============================] - 10s 250ms/step - loss: 0.0032\n",
      "Epoch 16/100\n",
      "41/41 [==============================] - 10s 248ms/step - loss: 0.0030\n",
      "Epoch 17/100\n",
      "41/41 [==============================] - 10s 235ms/step - loss: 0.0028\n",
      "Epoch 18/100\n",
      "41/41 [==============================] - 10s 242ms/step - loss: 0.0027\n",
      "Epoch 19/100\n",
      "41/41 [==============================] - 10s 239ms/step - loss: 0.0030\n",
      "Epoch 20/100\n",
      "41/41 [==============================] - 10s 235ms/step - loss: 0.0026\n",
      "Epoch 21/100\n",
      "41/41 [==============================] - 10s 243ms/step - loss: 0.0028\n",
      "Epoch 22/100\n",
      "41/41 [==============================] - 10s 241ms/step - loss: 0.0024\n",
      "Epoch 23/100\n",
      "41/41 [==============================] - 10s 242ms/step - loss: 0.0026\n",
      "Epoch 24/100\n",
      "41/41 [==============================] - 10s 239ms/step - loss: 0.0024\n",
      "Epoch 25/100\n",
      "41/41 [==============================] - 10s 236ms/step - loss: 0.0026\n",
      "Epoch 26/100\n",
      "41/41 [==============================] - 10s 237ms/step - loss: 0.0020\n",
      "Epoch 27/100\n",
      "41/41 [==============================] - 10s 242ms/step - loss: 0.0021\n",
      "Epoch 28/100\n",
      "41/41 [==============================] - 10s 245ms/step - loss: 0.0020\n",
      "Epoch 29/100\n",
      "41/41 [==============================] - 10s 244ms/step - loss: 0.0023\n",
      "Epoch 30/100\n",
      "41/41 [==============================] - 10s 242ms/step - loss: 0.0019\n",
      "Epoch 31/100\n",
      "41/41 [==============================] - 10s 242ms/step - loss: 0.0021\n",
      "Epoch 32/100\n",
      "41/41 [==============================] - 10s 246ms/step - loss: 0.0019\n",
      "Epoch 33/100\n",
      "41/41 [==============================] - 10s 245ms/step - loss: 0.0019\n",
      "Epoch 34/100\n",
      "41/41 [==============================] - 10s 235ms/step - loss: 0.0021\n",
      "Epoch 35/100\n",
      "41/41 [==============================] - 10s 238ms/step - loss: 0.0018\n",
      "Epoch 36/100\n",
      "41/41 [==============================] - 10s 244ms/step - loss: 0.0018\n",
      "Epoch 37/100\n",
      "41/41 [==============================] - 10s 249ms/step - loss: 0.0017\n",
      "Epoch 38/100\n",
      "41/41 [==============================] - 10s 237ms/step - loss: 0.0017\n",
      "Epoch 39/100\n",
      "41/41 [==============================] - 10s 253ms/step - loss: 0.0018\n",
      "Epoch 40/100\n",
      "41/41 [==============================] - 10s 248ms/step - loss: 0.0016\n",
      "Epoch 41/100\n",
      "41/41 [==============================] - 10s 250ms/step - loss: 0.0017\n",
      "Epoch 42/100\n",
      "41/41 [==============================] - 10s 251ms/step - loss: 0.0017\n",
      "Epoch 43/100\n",
      "41/41 [==============================] - 11s 257ms/step - loss: 0.0017\n",
      "Epoch 44/100\n",
      "41/41 [==============================] - 11s 257ms/step - loss: 0.0016\n",
      "Epoch 45/100\n",
      "41/41 [==============================] - 10s 242ms/step - loss: 0.0015\n",
      "Epoch 46/100\n",
      "41/41 [==============================] - 10s 245ms/step - loss: 0.0015\n",
      "Epoch 47/100\n",
      "41/41 [==============================] - 10s 245ms/step - loss: 0.0016\n",
      "Epoch 48/100\n",
      "41/41 [==============================] - 10s 252ms/step - loss: 0.0015\n",
      "Epoch 49/100\n",
      "41/41 [==============================] - 10s 240ms/step - loss: 0.0016\n",
      "Epoch 50/100\n",
      "41/41 [==============================] - 10s 241ms/step - loss: 0.0016\n",
      "Epoch 51/100\n",
      "41/41 [==============================] - 10s 242ms/step - loss: 0.0014\n",
      "Epoch 52/100\n",
      "41/41 [==============================] - 10s 246ms/step - loss: 0.0015\n",
      "Epoch 53/100\n",
      "41/41 [==============================] - 10s 248ms/step - loss: 0.0013\n",
      "Epoch 54/100\n",
      "41/41 [==============================] - 10s 247ms/step - loss: 0.0013\n",
      "Epoch 55/100\n",
      "41/41 [==============================] - 10s 243ms/step - loss: 0.0014\n",
      "Epoch 56/100\n",
      "41/41 [==============================] - 10s 242ms/step - loss: 0.0014\n",
      "Epoch 57/100\n",
      "41/41 [==============================] - 10s 248ms/step - loss: 0.0014\n",
      "Epoch 58/100\n",
      "41/41 [==============================] - 11s 256ms/step - loss: 0.0013\n",
      "Epoch 59/100\n",
      "41/41 [==============================] - 11s 281ms/step - loss: 0.0012\n",
      "Epoch 60/100\n",
      "41/41 [==============================] - 14s 333ms/step - loss: 0.0012\n",
      "Epoch 61/100\n",
      "41/41 [==============================] - 14s 352ms/step - loss: 0.0013\n",
      "Epoch 62/100\n",
      "41/41 [==============================] - 14s 339ms/step - loss: 0.0013\n",
      "Epoch 63/100\n",
      "41/41 [==============================] - 15s 366ms/step - loss: 0.0013\n",
      "Epoch 64/100\n",
      "41/41 [==============================] - 13s 326ms/step - loss: 0.0012\n",
      "Epoch 65/100\n",
      "41/41 [==============================] - 15s 368ms/step - loss: 0.0012\n",
      "Epoch 66/100\n",
      "41/41 [==============================] - 14s 351ms/step - loss: 0.0012\n",
      "Epoch 67/100\n",
      "41/41 [==============================] - 14s 340ms/step - loss: 0.0012\n",
      "Epoch 68/100\n",
      "41/41 [==============================] - 14s 352ms/step - loss: 0.0012\n",
      "Epoch 69/100\n",
      "41/41 [==============================] - 14s 339ms/step - loss: 0.0013\n",
      "Epoch 70/100\n",
      "41/41 [==============================] - 14s 337ms/step - loss: 0.0012\n",
      "Epoch 71/100\n",
      "41/41 [==============================] - 14s 337ms/step - loss: 0.0011\n",
      "Epoch 72/100\n",
      "41/41 [==============================] - 15s 354ms/step - loss: 0.0012\n",
      "Epoch 73/100\n",
      "41/41 [==============================] - 14s 345ms/step - loss: 0.0011\n",
      "Epoch 74/100\n",
      "41/41 [==============================] - 14s 337ms/step - loss: 0.0011\n",
      "Epoch 75/100\n",
      "41/41 [==============================] - 17s 413ms/step - loss: 0.0010\n",
      "Epoch 76/100\n",
      "41/41 [==============================] - 17s 428ms/step - loss: 0.0010\n",
      "Epoch 77/100\n",
      "41/41 [==============================] - 14s 353ms/step - loss: 9.9070e-04\n",
      "Epoch 78/100\n",
      "41/41 [==============================] - 14s 339ms/step - loss: 0.0010\n",
      "Epoch 79/100\n",
      "41/41 [==============================] - 14s 339ms/step - loss: 0.0010\n",
      "Epoch 80/100\n",
      "41/41 [==============================] - 14s 354ms/step - loss: 0.0011\n",
      "Epoch 81/100\n",
      "41/41 [==============================] - 15s 359ms/step - loss: 0.0011\n",
      "Epoch 82/100\n",
      "41/41 [==============================] - 14s 344ms/step - loss: 9.9336e-04\n",
      "Epoch 83/100\n",
      "41/41 [==============================] - 14s 345ms/step - loss: 0.0011\n",
      "Epoch 84/100\n",
      "41/41 [==============================] - 14s 338ms/step - loss: 0.0013\n",
      "Epoch 85/100\n",
      "41/41 [==============================] - 14s 343ms/step - loss: 0.0012\n",
      "Epoch 86/100\n",
      "41/41 [==============================] - 14s 341ms/step - loss: 0.0011\n",
      "Epoch 87/100\n",
      "41/41 [==============================] - 14s 345ms/step - loss: 0.0011\n",
      "Epoch 88/100\n",
      "41/41 [==============================] - 14s 342ms/step - loss: 0.0012\n",
      "Epoch 89/100\n",
      "41/41 [==============================] - 15s 379ms/step - loss: 9.0500e-04\n",
      "Epoch 90/100\n",
      "41/41 [==============================] - 12s 279ms/step - loss: 8.8972e-04\n",
      "Epoch 91/100\n",
      "41/41 [==============================] - 11s 274ms/step - loss: 9.9131e-04\n",
      "Epoch 92/100\n",
      "41/41 [==============================] - 12s 303ms/step - loss: 0.0010\n",
      "Epoch 93/100\n",
      "41/41 [==============================] - 11s 269ms/step - loss: 9.6848e-04\n",
      "Epoch 94/100\n",
      "41/41 [==============================] - 11s 269ms/step - loss: 9.4187e-04\n",
      "Epoch 95/100\n",
      "41/41 [==============================] - 11s 263ms/step - loss: 0.0011\n",
      "Epoch 96/100\n",
      "41/41 [==============================] - 11s 275ms/step - loss: 9.6690e-04\n",
      "Epoch 97/100\n",
      "41/41 [==============================] - 11s 271ms/step - loss: 9.5276e-04\n",
      "Epoch 98/100\n"
     ]
    },
    {
     "name": "stdout",
     "output_type": "stream",
     "text": [
      "41/41 [==============================] - 11s 257ms/step - loss: 0.0010\n",
      "Epoch 99/100\n",
      "41/41 [==============================] - 11s 260ms/step - loss: 0.0010\n",
      "Epoch 100/100\n",
      "41/41 [==============================] - 11s 257ms/step - loss: 8.6116e-04\n"
     ]
    },
    {
     "data": {
      "text/plain": [
       "<keras.callbacks.History at 0x28dd8a25460>"
      ]
     },
     "execution_count": 49,
     "metadata": {},
     "output_type": "execute_result"
    }
   ],
   "source": [
    "regressor.fit(X_train, y_train, epochs = 100, batch_size = 32)"
   ]
  },
  {
   "cell_type": "code",
   "execution_count": 50,
   "id": "b5741519",
   "metadata": {},
   "outputs": [],
   "source": [
    "#Input through the user\n",
    "days_to_pred = 30"
   ]
  },
  {
   "cell_type": "code",
   "execution_count": 51,
   "id": "a18e1bd1",
   "metadata": {},
   "outputs": [],
   "source": [
    "df_test = pd.read_csv('SBI_test.csv')\n",
    "real_openprice = df_test.iloc[:days_to_pred, 1:2].values"
   ]
  },
  {
   "cell_type": "code",
   "execution_count": 52,
   "id": "8f18de80",
   "metadata": {},
   "outputs": [
    {
     "name": "stdout",
     "output_type": "stream",
     "text": [
      "1/1 [==============================] - 5s 5s/step\n"
     ]
    }
   ],
   "source": [
    "dataset_total = pd.concat((df_train['Open'], df_test['Open']), axis = 0)\n",
    "inputs = dataset_total[len(dataset_total) - len(df_test) - timesteps:].values\n",
    "inputs = inputs.reshape(-1,1)\n",
    "inputs = sc.transform(inputs)\n",
    "X_test = []\n",
    "for i in range(timesteps, timesteps+days_to_pred):\n",
    "    X_test.append(inputs[i-timesteps:i, 0])\n",
    "X_test = np.array(X_test)\n",
    "X_test = np.reshape(X_test, (X_test.shape[0], X_test.shape[1], 1))\n",
    "predicted_stock_price = regressor.predict(X_test)\n",
    "predicted_stock_price = sc.inverse_transform(predicted_stock_price)"
   ]
  },
  {
   "cell_type": "code",
   "execution_count": 55,
   "id": "3bc1bfe0",
   "metadata": {},
   "outputs": [
    {
     "name": "stdout",
     "output_type": "stream",
     "text": [
      "Upward trend\n"
     ]
    },
    {
     "data": {
      "image/png": "[encoded data removed]",
      "text/plain": [
       "<Figure size 432x288 with 1 Axes>"
      ]
     },
     "metadata": {
      "needs_background": "light"
     },
     "output_type": "display_data"
    }
   ],
   "source": [
    "plt.plot(real_openprice, color = 'blue', label = 'Real Stock Price')\n",
    "plt.plot(predicted_stock_price, color = 'green', label = 'Predicted Stock Price')\n",
    "plt.title('Stock Price Prediction')\n",
    "plt.xlabel('Time')\n",
    "plt.ylabel('Stock Price')\n",
    "plt.legend()\n",
    "\n",
    "if predicted_stock_price[0]<=predicted_stock_price[-1]:\n",
    "    print(\"Upward trend\")\n",
    "else:\n",
    "    print(\"Downward trend\")"
   ]
  },
  {
   "cell_type": "code",
   "execution_count": 56,
   "id": "3e3a2f0c",
   "metadata": {},
   "outputs": [
    {
     "data": {
      "text/plain": [
       "array([[452.68304],\n",
       "       [455.85394],\n",
       "       [464.50034],\n",
       "       [473.52258],\n",
       "       [479.6326 ],\n",
       "       [484.69687],\n",
       "       [486.62277],\n",
       "       [493.26642],\n",
       "       [500.6361 ],\n",
       "       [503.35352],\n",
       "       [503.3419 ],\n",
       "       [502.92926],\n",
       "       [506.7974 ],\n",
       "       [503.4271 ],\n",
       "       [507.95084],\n",
       "       [504.04044],\n",
       "       [499.98773],\n",
       "       [491.52563],\n",
       "       [496.32108],\n",
       "       [517.46893],\n",
       "       [521.4557 ],\n",
       "       [528.90894],\n",
       "       [527.72815],\n",
       "       [527.94965],\n",
       "       [532.25653],\n",
       "       [528.6722 ],\n",
       "       [529.0873 ],\n",
       "       [529.55975],\n",
       "       [530.9329 ],\n",
       "       [530.7568 ]], dtype=float32)"
      ]
     },
     "execution_count": 56,
     "metadata": {},
     "output_type": "execute_result"
    }
   ],
   "source": [
    "predicted_stock_price"
   ]
  },
  {
   "cell_type": "code",
   "execution_count": null,
   "id": "c3b7f5de",
   "metadata": {},
   "outputs": [],
   "source": []
  }
 ],
 "metadata": {
  "kernelspec": {
   "display_name": "Python 3 (ipykernel)",
   "language": "python",
   "name": "python3"
  },
  "language_info": {
   "codemirror_mode": {
    "name": "ipython",
    "version": 3
   },
   "file_extension": ".py",
   "mimetype": "text/x-python",
   "name": "python",
   "nbconvert_exporter": "python",
   "pygments_lexer": "ipython3",
   "version": "3.9.12"
  }
 },
 "nbformat": 4,
 "nbformat_minor": 5
}
